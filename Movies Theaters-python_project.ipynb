{
 "cells": [
  {
   "attachments": {
    "WhatsApp%20Image%202022-08-07%20at%202.26.59%20AM.jpeg": {
     "image/jpeg": "[encoded data removed]"
    }
   },
   "cell_type": "markdown",
   "id": "690188b5",
   "metadata": {},
   "source": [
    "![WhatsApp%20Image%202022-08-07%20at%202.26.59%20AM.jpeg](attachment:WhatsApp%20Image%202022-08-07%20at%202.26.59%20AM.jpeg)"
   ]
  },
  {
   "cell_type": "code",
   "execution_count": 6,
   "id": "829b2ef5",
   "metadata": {},
   "outputs": [
    {
     "name": "stdout",
     "output_type": "stream",
     "text": [
      "/Users/etharalmahmoud/Downloads/SDA bootcamp/python/project\n"
     ]
    }
   ],
   "source": [
    "cd project/"
   ]
  },
  {
   "cell_type": "markdown",
   "id": "7f0c2b8b",
   "metadata": {},
   "source": [
    "#  <a name=Appendix>Appendix:</a>"
   ]
  },
  {
   "cell_type": "markdown",
   "id": "3c6411e0",
   "metadata": {},
   "source": [
    "- Click on the links:\n",
    ">1. <a href=#imports>Imports</a>\n",
    ">1. <a href=#Load>Load Data</a>\n",
    ">1. <a href=#Cleaning>Data Cleaning</a>\n",
    ">1. <a href=#pro>Preprocessing </a>\n",
    ">1. <a href=#fea>Feature Extraction</a> \n",
    ">1. <a href=#Rec>Recommendation system</a> \n",
    ">1. <a href=#tsf>Tickets and Seats Function</a>\n",
    ">1. <a href=#off>Ordering Food Function</a>\n",
    ">1. <a href=#Rf>Rating Function</a>"
   ]
  },
  {
   "cell_type": "markdown",
   "id": "b01662b8",
   "metadata": {},
   "source": [
    "# <a name='imports'>Libraries Imports</a> "
   ]
  },
  {
   "cell_type": "code",
   "execution_count": 7,
   "id": "a4c5efa8",
   "metadata": {},
   "outputs": [],
   "source": [
    "import pandas as pd\n",
    "import numpy as np\n",
    "import re \n",
    "import nltk\n",
    "pd.set_option('display.max_columns', None) # to show all of the columns\n",
    "from sklearn.feature_extraction.text import TfidfVectorizer\n",
    "import time\n",
    "from infos import infos\n",
    "from film_selector import FilmSelector\n",
    "from seat_booking import SeatBooking\n",
    "import matplotlib.pyplot as plt\n",
    "%matplotlib inline"
   ]
  },
  {
   "cell_type": "markdown",
   "id": "c48133e7",
   "metadata": {},
   "source": [
    " #### <a href='#Appendix'>Return to Appendix </a> "
   ]
  },
  {
   "cell_type": "markdown",
   "id": "5023f243",
   "metadata": {},
   "source": [
    "_______________________\n"
   ]
  },
  {
   "cell_type": "markdown",
   "id": "44115d52",
   "metadata": {},
   "source": [
    "# <a name='Load'>Load Data </a> "
   ]
  },
  {
   "cell_type": "code",
   "execution_count": 4,
   "id": "2964a04b",
   "metadata": {
    "scrolled": true
   },
   "outputs": [
    {
     "data": {
      "text/html": [
       "<div>\n",
       "<style scoped>\n",
       "    .dataframe tbody tr th:only-of-type {\n",
       "        vertical-align: middle;\n",
       "    }\n",
       "\n",
       "    .dataframe tbody tr th {\n",
       "        vertical-align: top;\n",
       "    }\n",
       "\n",
       "    .dataframe thead th {\n",
       "        text-align: right;\n",
       "    }\n",
       "</style>\n",
       "<table border=\"1\" class=\"dataframe\">\n",
       "  <thead>\n",
       "    <tr style=\"text-align: right;\">\n",
       "      <th></th>\n",
       "      <th>Unnamed: 0</th>\n",
       "      <th>Title</th>\n",
       "      <th>Year</th>\n",
       "      <th>Rated</th>\n",
       "      <th>Released</th>\n",
       "      <th>Runtime</th>\n",
       "      <th>Genre</th>\n",
       "      <th>Director</th>\n",
       "      <th>Writer</th>\n",
       "      <th>Actors</th>\n",
       "      <th>Plot</th>\n",
       "      <th>Language</th>\n",
       "      <th>Country</th>\n",
       "      <th>Awards</th>\n",
       "      <th>Poster</th>\n",
       "      <th>Ratings.Source</th>\n",
       "      <th>Ratings.Value</th>\n",
       "      <th>Metascore</th>\n",
       "      <th>imdbRating</th>\n",
       "      <th>imdbVotes</th>\n",
       "      <th>imdbID</th>\n",
       "      <th>Type</th>\n",
       "      <th>tomatoMeter</th>\n",
       "      <th>tomatoImage</th>\n",
       "      <th>tomatoRating</th>\n",
       "      <th>tomatoReviews</th>\n",
       "      <th>tomatoFresh</th>\n",
       "      <th>tomatoRotten</th>\n",
       "      <th>tomatoConsensus</th>\n",
       "      <th>tomatoUserMeter</th>\n",
       "      <th>tomatoUserRating</th>\n",
       "      <th>tomatoUserReviews</th>\n",
       "      <th>tomatoURL</th>\n",
       "      <th>DVD</th>\n",
       "      <th>BoxOffice</th>\n",
       "      <th>Production</th>\n",
       "      <th>Website</th>\n",
       "      <th>Response</th>\n",
       "    </tr>\n",
       "  </thead>\n",
       "  <tbody>\n",
       "    <tr>\n",
       "      <th>0</th>\n",
       "      <td>1</td>\n",
       "      <td>Hugo</td>\n",
       "      <td>2011</td>\n",
       "      <td>PG</td>\n",
       "      <td>23-Nov-11</td>\n",
       "      <td>126 min</td>\n",
       "      <td>Adventure, Drama, Family</td>\n",
       "      <td>Martin Scorsese</td>\n",
       "      <td>John Logan (screenplay), Brian Selznick (book)</td>\n",
       "      <td>Ben Kingsley, Sacha Baron Cohen, Asa Butterfie...</td>\n",
       "      <td>In Paris in 1931, an orphan named Hugo Cabret ...</td>\n",
       "      <td>English</td>\n",
       "      <td>USA</td>\n",
       "      <td>Won 5 Oscars. Another 57 wins &amp; 185 nominations.</td>\n",
       "      <td>https://images-na.ssl-images-amazon.com/images...</td>\n",
       "      <td>Internet Movie Database</td>\n",
       "      <td>7.5/10</td>\n",
       "      <td>83.0</td>\n",
       "      <td>7.5</td>\n",
       "      <td>260,429</td>\n",
       "      <td>tt0970179</td>\n",
       "      <td>movie</td>\n",
       "      <td>NaN</td>\n",
       "      <td>NaN</td>\n",
       "      <td>NaN</td>\n",
       "      <td>NaN</td>\n",
       "      <td>NaN</td>\n",
       "      <td>NaN</td>\n",
       "      <td>NaN</td>\n",
       "      <td>NaN</td>\n",
       "      <td>NaN</td>\n",
       "      <td>NaN</td>\n",
       "      <td>http://www.rottentomatoes.com/m/hugo/</td>\n",
       "      <td>28-Feb-12</td>\n",
       "      <td>$73,820,094</td>\n",
       "      <td>Paramount Studios</td>\n",
       "      <td>http://www.hugomovie.com/</td>\n",
       "      <td>True</td>\n",
       "    </tr>\n",
       "    <tr>\n",
       "      <th>1</th>\n",
       "      <td>2</td>\n",
       "      <td>Hugo</td>\n",
       "      <td>2011</td>\n",
       "      <td>PG</td>\n",
       "      <td>23-Nov-11</td>\n",
       "      <td>126 min</td>\n",
       "      <td>Adventure, Drama, Family</td>\n",
       "      <td>Martin Scorsese</td>\n",
       "      <td>John Logan (screenplay), Brian Selznick (book)</td>\n",
       "      <td>Ben Kingsley, Sacha Baron Cohen, Asa Butterfie...</td>\n",
       "      <td>In Paris in 1931, an orphan named Hugo Cabret ...</td>\n",
       "      <td>English</td>\n",
       "      <td>USA</td>\n",
       "      <td>Won 5 Oscars. Another 57 wins &amp; 185 nominations.</td>\n",
       "      <td>https://images-na.ssl-images-amazon.com/images...</td>\n",
       "      <td>Internet Movie Database</td>\n",
       "      <td>7.5/10</td>\n",
       "      <td>83.0</td>\n",
       "      <td>7.5</td>\n",
       "      <td>260,429</td>\n",
       "      <td>tt0970179</td>\n",
       "      <td>movie</td>\n",
       "      <td>NaN</td>\n",
       "      <td>NaN</td>\n",
       "      <td>NaN</td>\n",
       "      <td>NaN</td>\n",
       "      <td>NaN</td>\n",
       "      <td>NaN</td>\n",
       "      <td>NaN</td>\n",
       "      <td>NaN</td>\n",
       "      <td>NaN</td>\n",
       "      <td>NaN</td>\n",
       "      <td>http://www.rottentomatoes.com/m/hugo/</td>\n",
       "      <td>28-Feb-12</td>\n",
       "      <td>$73,820,094</td>\n",
       "      <td>Paramount Studios</td>\n",
       "      <td>http://www.hugomovie.com/</td>\n",
       "      <td>True</td>\n",
       "    </tr>\n",
       "    <tr>\n",
       "      <th>2</th>\n",
       "      <td>3</td>\n",
       "      <td>Jupiter Ascending</td>\n",
       "      <td>2015</td>\n",
       "      <td>PG-13</td>\n",
       "      <td>06-Feb-15</td>\n",
       "      <td>127 min</td>\n",
       "      <td>Action, Adventure, Sci-Fi</td>\n",
       "      <td>Lana Wachowski, Lilly Wachowski</td>\n",
       "      <td>Lilly Wachowski, Lana Wachowski</td>\n",
       "      <td>Mila Kunis, Channing Tatum, Sean Bean, Eddie R...</td>\n",
       "      <td>A young woman discovers her destiny as an heir...</td>\n",
       "      <td>English, Russian</td>\n",
       "      <td>USA, Australia</td>\n",
       "      <td>4 wins &amp; 16 nominations.</td>\n",
       "      <td>https://images-na.ssl-images-amazon.com/images...</td>\n",
       "      <td>Internet Movie Database</td>\n",
       "      <td>5.3/10</td>\n",
       "      <td>40.0</td>\n",
       "      <td>5.3</td>\n",
       "      <td>151,069</td>\n",
       "      <td>tt1617661</td>\n",
       "      <td>movie</td>\n",
       "      <td>NaN</td>\n",
       "      <td>NaN</td>\n",
       "      <td>NaN</td>\n",
       "      <td>NaN</td>\n",
       "      <td>NaN</td>\n",
       "      <td>NaN</td>\n",
       "      <td>NaN</td>\n",
       "      <td>NaN</td>\n",
       "      <td>NaN</td>\n",
       "      <td>NaN</td>\n",
       "      <td>http://www.rottentomatoes.com/m/jupiter_ascend...</td>\n",
       "      <td>02-Jun-15</td>\n",
       "      <td>$43,733,037</td>\n",
       "      <td>Warner Bros. Pictures</td>\n",
       "      <td>http://www.jupiterascending.com/</td>\n",
       "      <td>True</td>\n",
       "    </tr>\n",
       "    <tr>\n",
       "      <th>3</th>\n",
       "      <td>4</td>\n",
       "      <td>X-Men: Apocalypse</td>\n",
       "      <td>2016</td>\n",
       "      <td>PG-13</td>\n",
       "      <td>27-May-16</td>\n",
       "      <td>144 min</td>\n",
       "      <td>Action, Adventure, Sci-Fi</td>\n",
       "      <td>Bryan Singer</td>\n",
       "      <td>Simon Kinberg (screenplay), Bryan Singer (stor...</td>\n",
       "      <td>James McAvoy, Michael Fassbender, Jennifer Law...</td>\n",
       "      <td>After the re-emergence of the world's first mu...</td>\n",
       "      <td>English, Polish, German, Arabic, Egyptian (Anc...</td>\n",
       "      <td>USA</td>\n",
       "      <td>13 nominations.</td>\n",
       "      <td>https://images-na.ssl-images-amazon.com/images...</td>\n",
       "      <td>Internet Movie Database</td>\n",
       "      <td>7.1/10</td>\n",
       "      <td>52.0</td>\n",
       "      <td>7.1</td>\n",
       "      <td>285,476</td>\n",
       "      <td>tt3385516</td>\n",
       "      <td>movie</td>\n",
       "      <td>NaN</td>\n",
       "      <td>NaN</td>\n",
       "      <td>NaN</td>\n",
       "      <td>NaN</td>\n",
       "      <td>NaN</td>\n",
       "      <td>NaN</td>\n",
       "      <td>NaN</td>\n",
       "      <td>NaN</td>\n",
       "      <td>NaN</td>\n",
       "      <td>NaN</td>\n",
       "      <td>http://www.rottentomatoes.com/m/x_men_apocalypse/</td>\n",
       "      <td>04-Oct-16</td>\n",
       "      <td>$135,729,385</td>\n",
       "      <td>20th Century Fox</td>\n",
       "      <td>https://www.facebook.com/xmenmovies</td>\n",
       "      <td>True</td>\n",
       "    </tr>\n",
       "    <tr>\n",
       "      <th>4</th>\n",
       "      <td>5</td>\n",
       "      <td>Edge Of Tomorrow</td>\n",
       "      <td>2014</td>\n",
       "      <td>PG-13</td>\n",
       "      <td>06-Jun-14</td>\n",
       "      <td>113 min</td>\n",
       "      <td>Action, Adventure, Sci-Fi</td>\n",
       "      <td>Doug Liman</td>\n",
       "      <td>Christopher McQuarrie (screenplay), Jez Butter...</td>\n",
       "      <td>Tom Cruise, Emily Blunt, Brendan Gleeson, Bill...</td>\n",
       "      <td>A soldier fighting aliens gets to relive the s...</td>\n",
       "      <td>English</td>\n",
       "      <td>USA, Canada</td>\n",
       "      <td>11 wins &amp; 36 nominations.</td>\n",
       "      <td>https://images-na.ssl-images-amazon.com/images...</td>\n",
       "      <td>Internet Movie Database</td>\n",
       "      <td>7.9/10</td>\n",
       "      <td>71.0</td>\n",
       "      <td>7.9</td>\n",
       "      <td>475,969</td>\n",
       "      <td>tt1631867</td>\n",
       "      <td>movie</td>\n",
       "      <td>NaN</td>\n",
       "      <td>NaN</td>\n",
       "      <td>NaN</td>\n",
       "      <td>NaN</td>\n",
       "      <td>NaN</td>\n",
       "      <td>NaN</td>\n",
       "      <td>NaN</td>\n",
       "      <td>NaN</td>\n",
       "      <td>NaN</td>\n",
       "      <td>NaN</td>\n",
       "      <td>http://www.rottentomatoes.com/m/live_die_repea...</td>\n",
       "      <td>07-Oct-14</td>\n",
       "      <td>$77,121,429</td>\n",
       "      <td>Warner Bros. Pictures</td>\n",
       "      <td>http://www.edgeoftomorrowmovie.com</td>\n",
       "      <td>True</td>\n",
       "    </tr>\n",
       "  </tbody>\n",
       "</table>\n",
       "</div>"
      ],
      "text/plain": [
       "   Unnamed: 0              Title  Year  Rated   Released  Runtime  \\\n",
       "0           1               Hugo  2011     PG  23-Nov-11  126 min   \n",
       "1           2               Hugo  2011     PG  23-Nov-11  126 min   \n",
       "2           3  Jupiter Ascending  2015  PG-13  06-Feb-15  127 min   \n",
       "3           4  X-Men: Apocalypse  2016  PG-13  27-May-16  144 min   \n",
       "4           5   Edge Of Tomorrow  2014  PG-13  06-Jun-14  113 min   \n",
       "\n",
       "                       Genre                         Director  \\\n",
       "0   Adventure, Drama, Family                  Martin Scorsese   \n",
       "1   Adventure, Drama, Family                  Martin Scorsese   \n",
       "2  Action, Adventure, Sci-Fi  Lana Wachowski, Lilly Wachowski   \n",
       "3  Action, Adventure, Sci-Fi                     Bryan Singer   \n",
       "4  Action, Adventure, Sci-Fi                       Doug Liman   \n",
       "\n",
       "                                              Writer  \\\n",
       "0     John Logan (screenplay), Brian Selznick (book)   \n",
       "1     John Logan (screenplay), Brian Selznick (book)   \n",
       "2                    Lilly Wachowski, Lana Wachowski   \n",
       "3  Simon Kinberg (screenplay), Bryan Singer (stor...   \n",
       "4  Christopher McQuarrie (screenplay), Jez Butter...   \n",
       "\n",
       "                                              Actors  \\\n",
       "0  Ben Kingsley, Sacha Baron Cohen, Asa Butterfie...   \n",
       "1  Ben Kingsley, Sacha Baron Cohen, Asa Butterfie...   \n",
       "2  Mila Kunis, Channing Tatum, Sean Bean, Eddie R...   \n",
       "3  James McAvoy, Michael Fassbender, Jennifer Law...   \n",
       "4  Tom Cruise, Emily Blunt, Brendan Gleeson, Bill...   \n",
       "\n",
       "                                                Plot  \\\n",
       "0  In Paris in 1931, an orphan named Hugo Cabret ...   \n",
       "1  In Paris in 1931, an orphan named Hugo Cabret ...   \n",
       "2  A young woman discovers her destiny as an heir...   \n",
       "3  After the re-emergence of the world's first mu...   \n",
       "4  A soldier fighting aliens gets to relive the s...   \n",
       "\n",
       "                                            Language         Country  \\\n",
       "0                                            English             USA   \n",
       "1                                            English             USA   \n",
       "2                                   English, Russian  USA, Australia   \n",
       "3  English, Polish, German, Arabic, Egyptian (Anc...             USA   \n",
       "4                                            English     USA, Canada   \n",
       "\n",
       "                                             Awards  \\\n",
       "0  Won 5 Oscars. Another 57 wins & 185 nominations.   \n",
       "1  Won 5 Oscars. Another 57 wins & 185 nominations.   \n",
       "2                          4 wins & 16 nominations.   \n",
       "3                                   13 nominations.   \n",
       "4                         11 wins & 36 nominations.   \n",
       "\n",
       "                                              Poster           Ratings.Source  \\\n",
       "0  https://images-na.ssl-images-amazon.com/images...  Internet Movie Database   \n",
       "1  https://images-na.ssl-images-amazon.com/images...  Internet Movie Database   \n",
       "2  https://images-na.ssl-images-amazon.com/images...  Internet Movie Database   \n",
       "3  https://images-na.ssl-images-amazon.com/images...  Internet Movie Database   \n",
       "4  https://images-na.ssl-images-amazon.com/images...  Internet Movie Database   \n",
       "\n",
       "  Ratings.Value  Metascore  imdbRating imdbVotes     imdbID   Type  \\\n",
       "0        7.5/10       83.0         7.5   260,429  tt0970179  movie   \n",
       "1        7.5/10       83.0         7.5   260,429  tt0970179  movie   \n",
       "2        5.3/10       40.0         5.3   151,069  tt1617661  movie   \n",
       "3        7.1/10       52.0         7.1   285,476  tt3385516  movie   \n",
       "4        7.9/10       71.0         7.9   475,969  tt1631867  movie   \n",
       "\n",
       "   tomatoMeter  tomatoImage  tomatoRating  tomatoReviews  tomatoFresh  \\\n",
       "0          NaN          NaN           NaN            NaN          NaN   \n",
       "1          NaN          NaN           NaN            NaN          NaN   \n",
       "2          NaN          NaN           NaN            NaN          NaN   \n",
       "3          NaN          NaN           NaN            NaN          NaN   \n",
       "4          NaN          NaN           NaN            NaN          NaN   \n",
       "\n",
       "   tomatoRotten  tomatoConsensus  tomatoUserMeter  tomatoUserRating  \\\n",
       "0           NaN              NaN              NaN               NaN   \n",
       "1           NaN              NaN              NaN               NaN   \n",
       "2           NaN              NaN              NaN               NaN   \n",
       "3           NaN              NaN              NaN               NaN   \n",
       "4           NaN              NaN              NaN               NaN   \n",
       "\n",
       "   tomatoUserReviews                                          tomatoURL  \\\n",
       "0                NaN              http://www.rottentomatoes.com/m/hugo/   \n",
       "1                NaN              http://www.rottentomatoes.com/m/hugo/   \n",
       "2                NaN  http://www.rottentomatoes.com/m/jupiter_ascend...   \n",
       "3                NaN  http://www.rottentomatoes.com/m/x_men_apocalypse/   \n",
       "4                NaN  http://www.rottentomatoes.com/m/live_die_repea...   \n",
       "\n",
       "         DVD     BoxOffice             Production  \\\n",
       "0  28-Feb-12   $73,820,094      Paramount Studios   \n",
       "1  28-Feb-12   $73,820,094      Paramount Studios   \n",
       "2  02-Jun-15   $43,733,037  Warner Bros. Pictures   \n",
       "3  04-Oct-16  $135,729,385       20th Century Fox   \n",
       "4  07-Oct-14   $77,121,429  Warner Bros. Pictures   \n",
       "\n",
       "                               Website Response  \n",
       "0            http://www.hugomovie.com/     True  \n",
       "1            http://www.hugomovie.com/     True  \n",
       "2     http://www.jupiterascending.com/     True  \n",
       "3  https://www.facebook.com/xmenmovies     True  \n",
       "4   http://www.edgeoftomorrowmovie.com     True  "
      ]
     },
     "execution_count": 4,
     "metadata": {},
     "output_type": "execute_result"
    }
   ],
   "source": [
    "#uploading dataset\n",
    "dataset = pd.read_csv(\"dataset.csv\")\n",
    "movies = dataset\n",
    "movies.head()"
   ]
  },
  {
   "cell_type": "markdown",
   "id": "454c7f46",
   "metadata": {},
   "source": [
    " #### <a href='#Appendix'>Return to Appendix </a> "
   ]
  },
  {
   "cell_type": "markdown",
   "id": "0d7a68c5",
   "metadata": {},
   "source": [
    "_______________________\n"
   ]
  },
  {
   "cell_type": "markdown",
   "id": "c413ec31",
   "metadata": {},
   "source": [
    "# <a name='Cleaning'>Data Cleaning </a>"
   ]
  },
  {
   "cell_type": "code",
   "execution_count": 5,
   "id": "23fa350c",
   "metadata": {},
   "outputs": [],
   "source": [
    "#drop duplicates\n",
    "movies_df = movies.drop_duplicates(['Title'],keep='last')\n",
    "movies_df=movies_df.reset_index(drop=True)"
   ]
  },
  {
   "cell_type": "code",
   "execution_count": 6,
   "id": "d39ddf30",
   "metadata": {},
   "outputs": [],
   "source": [
    "#rename plot column to summary\n",
    "movies_df.rename(columns={'Plot': 'Summary'}, inplace=True)"
   ]
  },
  {
   "cell_type": "markdown",
   "id": "21273253",
   "metadata": {},
   "source": [
    " #### <a href='#Appendix'>Return to Appendix </a> "
   ]
  },
  {
   "cell_type": "markdown",
   "id": "ee04eb00",
   "metadata": {},
   "source": [
    "_______________________\n"
   ]
  },
  {
   "cell_type": "markdown",
   "id": "b5347538",
   "metadata": {},
   "source": [
    "# <a name='pro'>Preprocessing  </a>"
   ]
  },
  {
   "cell_type": "code",
   "execution_count": 7,
   "id": "869975c9",
   "metadata": {},
   "outputs": [],
   "source": [
    "#summary column\n",
    "movies_df['Clean_summary'] = movies_df['Summary'].str.lower() #converting them to string and lower case\n",
    "movies_df['Clean_summary'] = movies_df['Summary'].apply(lambda x: re.sub('[^a-zA-Z]+', ' ', str(x))) #remove punc and numbers"
   ]
  },
  {
   "cell_type": "code",
   "execution_count": 8,
   "id": "1afd7338",
   "metadata": {},
   "outputs": [],
   "source": [
    "#tokenize \n",
    "movies_df['Clean_summary'] = movies_df['Clean_summary'].apply(lambda x: nltk.word_tokenize(x)) #to analyze each word alone \n",
    "\n",
    "\n",
    "#remove stopwords\n",
    "stop_words = nltk.corpus.stopwords.words('english')\n",
    "words = []\n",
    "for sentence in movies_df['Clean_summary']:\n",
    "    lis_words = []\n",
    "    for word in sentence:\n",
    "        if word not in stop_words and len(word) >= 3:\n",
    "            lis_words.append(word)\n",
    "    words.append(lis_words)\n",
    "    \n",
    "movies_df['Clean_summary'] = words"
   ]
  },
  {
   "cell_type": "code",
   "execution_count": 9,
   "id": "65ada638",
   "metadata": {},
   "outputs": [],
   "source": [
    "#split each actor's name and each genre\n",
    "movies_df['Genre'] = movies_df['Genre'].apply(lambda x: str(x).split(','))\n",
    "movies_df['Actors'] = movies_df['Actors'].apply(lambda x: str(x).split(',')[:4])"
   ]
  },
  {
   "cell_type": "code",
   "execution_count": 10,
   "id": "19e78163",
   "metadata": {},
   "outputs": [],
   "source": [
    "#function to clean and lower case the actors and genre's columns\n",
    "def clean(sentence):\n",
    "    words = []\n",
    "    for word in sentence:\n",
    "        words.append(word.lower().strip())\n",
    "    return words\n",
    "\n",
    "\n",
    "movies_df['Genre'] = [clean(word) for word in movies_df['Genre']]\n",
    "movies_df['Actors'] = [clean(word) for word in movies_df['Actors']]"
   ]
  },
  {
   "cell_type": "code",
   "execution_count": 11,
   "id": "a04668c2",
   "metadata": {},
   "outputs": [],
   "source": [
    "#adding summary, genre and actors columns together as list\n",
    "columns = ['Clean_summary', 'Genre', 'Actors']\n",
    "\n",
    "lis=[]\n",
    "for i in range(len(movies_df)):\n",
    "    words = ''\n",
    "    for column in columns:\n",
    "        words += ' '.join(movies_df[column][i])+' '\n",
    "    lis.append(words)\n",
    "\n",
    "movies_df['Summary'] = lis"
   ]
  },
  {
   "cell_type": "code",
   "execution_count": 12,
   "id": "8864e24a",
   "metadata": {
    "scrolled": true
   },
   "outputs": [
    {
     "data": {
      "text/html": [
       "<div>\n",
       "<style scoped>\n",
       "    .dataframe tbody tr th:only-of-type {\n",
       "        vertical-align: middle;\n",
       "    }\n",
       "\n",
       "    .dataframe tbody tr th {\n",
       "        vertical-align: top;\n",
       "    }\n",
       "\n",
       "    .dataframe thead th {\n",
       "        text-align: right;\n",
       "    }\n",
       "</style>\n",
       "<table border=\"1\" class=\"dataframe\">\n",
       "  <thead>\n",
       "    <tr style=\"text-align: right;\">\n",
       "      <th></th>\n",
       "      <th>Title</th>\n",
       "      <th>Summary</th>\n",
       "      <th>Year</th>\n",
       "    </tr>\n",
       "  </thead>\n",
       "  <tbody>\n",
       "    <tr>\n",
       "      <th>0</th>\n",
       "      <td>Hugo</td>\n",
       "      <td>Paris orphan named Hugo Cabret lives walls tra...</td>\n",
       "      <td>2011</td>\n",
       "    </tr>\n",
       "    <tr>\n",
       "      <th>1</th>\n",
       "      <td>Jupiter Ascending</td>\n",
       "      <td>young woman discovers destiny heiress intergal...</td>\n",
       "      <td>2015</td>\n",
       "    </tr>\n",
       "    <tr>\n",
       "      <th>2</th>\n",
       "      <td>X-Men: Apocalypse</td>\n",
       "      <td>After emergence world first mutant world destr...</td>\n",
       "      <td>2016</td>\n",
       "    </tr>\n",
       "    <tr>\n",
       "      <th>3</th>\n",
       "      <td>Edge Of Tomorrow</td>\n",
       "      <td>soldier fighting aliens gets relive day day re...</td>\n",
       "      <td>2014</td>\n",
       "    </tr>\n",
       "    <tr>\n",
       "      <th>4</th>\n",
       "      <td>The Jungle Book</td>\n",
       "      <td>After threat tiger Shere Khan forces flee jung...</td>\n",
       "      <td>2016</td>\n",
       "    </tr>\n",
       "  </tbody>\n",
       "</table>\n",
       "</div>"
      ],
      "text/plain": [
       "               Title                                            Summary  Year\n",
       "0               Hugo  Paris orphan named Hugo Cabret lives walls tra...  2011\n",
       "1  Jupiter Ascending  young woman discovers destiny heiress intergal...  2015\n",
       "2  X-Men: Apocalypse  After emergence world first mutant world destr...  2016\n",
       "3   Edge Of Tomorrow  soldier fighting aliens gets relive day day re...  2014\n",
       "4    The Jungle Book  After threat tiger Shere Khan forces flee jung...  2016"
      ]
     },
     "execution_count": 12,
     "metadata": {},
     "output_type": "execute_result"
    }
   ],
   "source": [
    "#creating a new dataframe\n",
    "rec_df = movies_df[['Title', 'Summary', 'Year']]\n",
    "rec_df.head()"
   ]
  },
  {
   "cell_type": "markdown",
   "id": "ca10aef2",
   "metadata": {},
   "source": [
    " #### <a href='#Appendix'>Return to Appendix </a> "
   ]
  },
  {
   "cell_type": "markdown",
   "id": "ab22b3bf",
   "metadata": {},
   "source": [
    "_______________________\n"
   ]
  },
  {
   "cell_type": "markdown",
   "id": "4d4d7468",
   "metadata": {},
   "source": [
    "# <a name='fea'>Feature Extraction  </a>"
   ]
  },
  {
   "cell_type": "code",
   "execution_count": 13,
   "id": "ae2ec1a7",
   "metadata": {},
   "outputs": [
    {
     "data": {
      "text/plain": [
       "(4798, 20926)"
      ]
     },
     "execution_count": 13,
     "metadata": {},
     "output_type": "execute_result"
    }
   ],
   "source": [
    "#TfidfVectorizer --> number of times a word appears in the document \n",
    "TFIDF = TfidfVectorizer()\n",
    "#fit_transform --> scale the training data and also learn the scaling parameters\n",
    "features = TFIDF.fit_transform(rec_df['Summary'])\n",
    "features.shape"
   ]
  },
  {
   "cell_type": "code",
   "execution_count": 14,
   "id": "e846dac9",
   "metadata": {},
   "outputs": [],
   "source": [
    "#calculating the similarity between the words\n",
    "from sklearn.metrics.pairwise import cosine_similarity\n",
    "\n",
    "similarity = cosine_similarity(features, features)\n"
   ]
  },
  {
   "cell_type": "markdown",
   "id": "06fa56f0",
   "metadata": {},
   "source": [
    " #### <a href='#Appendix'>Return to Appendix </a> "
   ]
  },
  {
   "cell_type": "markdown",
   "id": "b162bc06",
   "metadata": {},
   "source": [
    "_______________________\n"
   ]
  },
  {
   "cell_type": "markdown",
   "id": "e20a87d7",
   "metadata": {},
   "source": [
    "# <a name='Rec'>Recommendation system</a> "
   ]
  },
  {
   "cell_type": "code",
   "execution_count": 15,
   "id": "00a356b4",
   "metadata": {},
   "outputs": [],
   "source": [
    "def recommend_movie(title):\n",
    "    movies = []\n",
    "    index = rec_df[rec_df['Title']==title].index[0]\n",
    "    score = pd.Series(similarity[index]).sort_values(ascending=False)\n",
    "    top5 = list(score.iloc[1:6].index)\n",
    "    \n",
    "    for i in top5:\n",
    "        if rec_df['Year'][i] >= 2020:\n",
    "            movies.append(rec_df['Title'][i])\n",
    "    return movies"
   ]
  },
  {
   "cell_type": "code",
   "execution_count": 50,
   "id": "b046420e",
   "metadata": {
    "scrolled": true
   },
   "outputs": [],
   "source": [
    " recommend_movie(input(\"Please enter a movie:\").title())"
   ]
  },
  {
   "cell_type": "markdown",
   "id": "539f6be8",
   "metadata": {},
   "source": [
    " #### <a href='#Appendix'>Return to Appendix </a> "
   ]
  },
  {
   "cell_type": "markdown",
   "id": "00b4ead5",
   "metadata": {},
   "source": [
    "_______________________\n"
   ]
  },
  {
   "cell_type": "markdown",
   "id": "a5e16605",
   "metadata": {},
   "source": [
    "# <a name='tsf'>Tickets and Seats Function</a> "
   ]
  },
  {
   "cell_type": "code",
   "execution_count": 37,
   "id": "f0a3eb2d",
   "metadata": {},
   "outputs": [],
   "source": [
    "ticket_cost_adult= 70\n",
    "ticket_cost_kid = 40\n",
    "\n",
    "class Controller:\n",
    "    def __init__(self, infos):\n",
    "        self.films = infos  \n",
    "        self.welcome()\n",
    "        self.choose_film()\n",
    "        if self.choice != 'x':\n",
    "            self.choose_seat()\n",
    "            self.tickets()\n",
    "        self.bye()\n",
    "         \n",
    "  # The choose_film function give us a list of movies\n",
    "    def choose_film(self):\n",
    "        #assign the FilmSelector class to selector\n",
    "            selector = FilmSelector()\n",
    "            selector.display_options(self.films)\n",
    "            self.choice = selector.get_choice(self.films)\n",
    "\n",
    "      #choose_seat function to choose row and column \n",
    "    def choose_seat(self):\n",
    "            #all the variable we need \n",
    "            film = self.films[int(self.choice) - 1]\n",
    "            name = film['name']\n",
    "            seats_list = film['seats']\n",
    "            \n",
    "\n",
    "            #the movie they chose\n",
    "            print('Your movie is: {}'.format(name))\n",
    "            time.sleep(0.7)\n",
    "           #list of ways to book seats\n",
    "            print('Please choose:')\n",
    "            time.sleep(0.7)\n",
    "            print(\"1- Choose the row and column number for your seats\")\n",
    "            print(\"2- Book me a front seat :)！\")\n",
    "            time.sleep(0.7)\n",
    "            print('')\n",
    "\n",
    "            #choosing the method \n",
    "            method = input('Please choose the method you want')\n",
    "            #choices are 1 or 2\n",
    "            valid_method = ['1','2']\n",
    "            #if they chose anything other than 1 or 2\n",
    "            while method not in valid_method:\n",
    "                method = input(\"Invalid input, Please re-enter\")\n",
    "\n",
    "            #assigning seatbooking class to a variable\n",
    "            booking = SeatBooking()\n",
    "            #getting all of the booking information \n",
    "            booking.check_bookings(seats_list)\n",
    "            #Method 1:\n",
    "            if method == '1':\n",
    "                booking.book_seat(seats_list)\n",
    "            #Method 2: \n",
    "            else:\n",
    "                 booking.book_seat_at_front(seats_list)\n",
    "                \n",
    "           # print(booking(seats_list))\n",
    "            #ordering =input(\"You want complete to see your price (yes/no) : \")\n",
    "            #if(ordering==\"yes\"):\n",
    "             #   Controller.tickets(self)\n",
    "            #else:\n",
    "             #   pass\n",
    "            \n",
    "            \n",
    "    #this function for buying tickets           \n",
    "    def tickets(self):\n",
    "        adult_tickets = 0\n",
    "        kids_tickets= 0\n",
    "        PriceAfterDiscount=0\n",
    "        PriceOld_60=0\n",
    "        total = 0\n",
    "        \n",
    "        ordering =input(\"You want complete to see your price (yes/no) : \")\n",
    "        while(ordering == 'yes'):\n",
    "            adult=int(input(\"How old are you? \"))\n",
    "            if ((adult > 15) and (adult < 60)):\n",
    "                adult_tickets +=ticket_cost_adult\n",
    "                print(\"Your tickets will be:\" , adult_tickets, \"SAR\")\n",
    "\n",
    "            elif (adult <= 15):\n",
    "                kids_tickets+=(ticket_cost_kid)\n",
    "                print(\"Your tickets will be:\" , kids_tickets, \"SAR\")\n",
    "\n",
    "            elif (adult >= 60):\n",
    "                discount = ((input(\"We have a 10% discount on Fridays, would you like to book your ticket?\")))\n",
    "                if (discount == \"yes\"):\n",
    "                    DiscountAmount =(ticket_cost_adult * 0.10)\n",
    "                    PriceAfterDiscount+= (ticket_cost_adult - DiscountAmount)\n",
    "                    print(\"Your tickets will be:\" , PriceAfterDiscount , \"SAR\")\n",
    "\n",
    "                else:\n",
    "                    PriceOld_60+= ticket_cost_adult\n",
    "                    print(\"Your tickets will be:\" , PriceOld_60, \"SAR\")\n",
    "\n",
    "            else:  \n",
    "                print(\"invalid number!\")\n",
    "        #print('Your total is:',(total),\"SAR\")\n",
    "            print(\" \")\n",
    "        \n",
    "            ordering =input(\"you want buy anther tickets : \")\n",
    "            if(ordering==\"yes\"):\n",
    "                Controller.choose_seat(self)\n",
    "            total_price_tickt=(adult_tickets+kids_tickets+PriceAfterDiscount+PriceOld_60)    \n",
    "            print('Your Bill is:',total_price_tickt,\"SAR\")   \n",
    "      #  Print a welcome message\n",
    "    def welcome(self):\n",
    "            print(\" Welcome to Khalid's cinema \")\n",
    "            print('')\n",
    "            time.sleep(0.7)\n",
    "\n",
    "      #  Print the conclusion\n",
    "    def bye(self):\n",
    "            print('')\n",
    "            time.sleep(0.7)\n",
    "            print(\" We're exited to see you :)!\")\n",
    "\n",
    "            \n",
    "    \n"
   ]
  },
  {
   "cell_type": "code",
   "execution_count": 38,
   "id": "88f69755",
   "metadata": {
    "scrolled": false
   },
   "outputs": [
    {
     "name": "stdout",
     "output_type": "stream",
     "text": [
      " Welcome to Khalid's cinema \n",
      "\n",
      " Today's movies：\n",
      "1 - The Informers\n",
      "2 - The Watch\n",
      "3 - Lake Placid\n",
      "4 - The 5th Wave\n",
      "5 - Moonrise Kingdom\n",
      "6 - Cruel Intentions\n",
      "7 - Diary of the Dead\n",
      "8 - Delgo\n",
      "x -  sign out \n",
      " Your choice is？2\n",
      "Your movie is: The Watch\n",
      "Please choose:\n",
      "1- Choose the row and column number for your seats\n",
      "2- Book me a front seat :)！\n",
      "\n",
      "Please choose the method you want2\n",
      " Rows from  1-6  , columns from  1-8 \n",
      "======================\n",
      "●  ●  ●  ●  ●  ●  ●  ●\n",
      "●  ●  ●  ●  ●  ●  ●  ●\n",
      "●  ●  ●  ●  ○  ○  ○  ○\n",
      "○  ○  ○  ○  ○  ○  ○  ○\n",
      "○  ○  ●  ○  ○  ○  ○  ○\n",
      "○  ○  ○  ○  ○  ○  ○  ○\n",
      "======================\n",
      "Your seat number ：row 3 column 5\n",
      "You want complete to see your price (yes/no) : yes\n",
      "How old are you? 20\n",
      "Your tickets will be: 70 SAR\n",
      " \n",
      "you want buy anther tickets : yes\n",
      "Your movie is: The Watch\n",
      "Please choose:\n",
      "1- Choose the row and column number for your seats\n",
      "2- Book me a front seat :)！\n",
      "\n",
      "Please choose the method you want2\n",
      " Rows from  1-6  , columns from  1-8 \n",
      "======================\n",
      "●  ●  ●  ●  ●  ●  ●  ●\n",
      "●  ●  ●  ●  ●  ●  ●  ●\n",
      "●  ●  ●  ●  ●  ○  ○  ○\n",
      "○  ○  ○  ○  ○  ○  ○  ○\n",
      "○  ○  ●  ○  ○  ○  ○  ○\n",
      "○  ○  ○  ○  ○  ○  ○  ○\n",
      "======================\n",
      "Your seat number ：row 3 column 6\n",
      "Your Bill is: 70 SAR\n",
      "How old are you? 20\n",
      "Your tickets will be: 140 SAR\n",
      " \n",
      "you want buy anther tickets : no\n",
      "Your Bill is: 140 SAR\n",
      "\n",
      " We're exited to see you :)!\n"
     ]
    },
    {
     "data": {
      "text/plain": [
       "<__main__.Controller at 0x7f998f672ca0>"
      ]
     },
     "execution_count": 38,
     "metadata": {},
     "output_type": "execute_result"
    }
   ],
   "source": [
    "Controller(infos)"
   ]
  },
  {
   "cell_type": "markdown",
   "id": "b091181d",
   "metadata": {},
   "source": [
    " #### <a href='#Appendix'>Return to Appendix </a> "
   ]
  },
  {
   "cell_type": "markdown",
   "id": "204a1625",
   "metadata": {},
   "source": [
    "_______________________\n"
   ]
  },
  {
   "cell_type": "markdown",
   "id": "dfa18ccb",
   "metadata": {},
   "source": [
    "# <a name='off'>Ordering Food Function/a> "
   ]
  },
  {
   "cell_type": "code",
   "execution_count": 21,
   "id": "78ff2531",
   "metadata": {},
   "outputs": [],
   "source": [
    "Menu ={\n",
    "  'popcorn' : 30, \n",
    "  'nachos': 35, \n",
    "  'soft drinks': 18,\n",
    "  'chips' : 9,\n",
    "  'hot dogs' : 22, \n",
    "  \"water\": 5 }\n",
    "\n",
    "# function for customer order and total cost for a  customer \n",
    "def Customer_order_function():\n",
    "    \n",
    "    ordering=input(\"What would you like to order?: (yes/no) \")\n",
    "        \n",
    "    total=0\n",
    "    if(ordering== 'yes'):\n",
    "        while (ordering == 'yes'):\n",
    "            # this condition for stop or complete the loop\n",
    "            if(ordering == 'yes'):\n",
    "                print(Menu)\n",
    "                snack=input(\"What would you like to have?:\")\n",
    "\n",
    "                if(snack in Menu):\n",
    "\n",
    "                    print(\" \")\n",
    "\n",
    "                    quantity=int(input(\"How many do you want?: \"))\n",
    "                    if (quantity > 0):\n",
    "                        print(\" \")\n",
    "\n",
    "                    #if they enter a negative number or 0, this message will be printed \n",
    "                    else:\n",
    "                        print(\"Invalid number!\")\n",
    "                        break \n",
    "\n",
    "                    price = Menu[snack] # to check the price of the snack they choose\n",
    "                    total+=(price*quantity) # total of the snacks they bought and their quantity\n",
    "\n",
    "\n",
    "                    ordering=(input(\"Would you like to order another item? (yes/no): \"))\n",
    "\n",
    "                    print('Your total is:', total,'SAR')\n",
    "\n",
    "                else:\n",
    "                    print(\"Sorry! we don't have what you want\")\n",
    "\n",
    "            elif(ordering == 'no'):\n",
    "                break\n",
    "\n",
    "            else:\n",
    "                print(\"Wrong choice try again! \")\n",
    "                break   \n",
    "\n",
    "    elif(ordering == 'no'): \n",
    "        print(\" \")\n",
    "        print(\"We hope to see you again :) \")\n",
    "        \n",
    "\n",
    "    else:\n",
    "        print(\"Wrong choice try again! \")\n",
    "        customer_order_function()\n",
    "\n"
   ]
  },
  {
   "cell_type": "code",
   "execution_count": 22,
   "id": "41980dec",
   "metadata": {
    "scrolled": true
   },
   "outputs": [
    {
     "name": "stdout",
     "output_type": "stream",
     "text": [
      "What would you like to order?: (yes/no) yes\n",
      "{'popcorn': 30, 'nachos': 35, 'soft drinks': 18, 'chips': 9, 'hot dogs': 22, 'water': 5}\n",
      "What would you like to have?:water\n",
      " \n",
      "How many do you want?: 2\n",
      " \n",
      "Would you like to order another item? (yes/no): yes\n",
      "Your total is: 10 SAR\n",
      "{'popcorn': 30, 'nachos': 35, 'soft drinks': 18, 'chips': 9, 'hot dogs': 22, 'water': 5}\n",
      "What would you like to have?:popcorn\n",
      " \n",
      "How many do you want?: 1\n",
      " \n",
      "Would you like to order another item? (yes/no): no\n",
      "Your total is: 40 SAR\n"
     ]
    }
   ],
   "source": [
    " Customer_order_function()"
   ]
  },
  {
   "cell_type": "markdown",
   "id": "0be36752",
   "metadata": {},
   "source": [
    " #### <a href='#Appendix'>Return to Appendix </a> "
   ]
  },
  {
   "cell_type": "markdown",
   "id": "9198a8f5",
   "metadata": {},
   "source": [
    "_______________________\n"
   ]
  },
  {
   "cell_type": "markdown",
   "id": "229093c2",
   "metadata": {},
   "source": [
    "# <a name='Rf'>Rating Function</a> "
   ]
  },
  {
   "cell_type": "code",
   "execution_count": 27,
   "id": "c317d78b",
   "metadata": {},
   "outputs": [],
   "source": [
    "def rating ():\n",
    "    recommendation_system_rate = {1:0 , 2:0 , 3:0 , 4:0 , 5:0} # creating dictionary\n",
    "    recommendation_system_note = {1:\"\" , 2:\"\" , 3:\"\" , 4:\"\" , 5:\"\"} # creating dictionary\n",
    "    service_rate = {1:0 , 2:0 , 3:0 , 4:0 , 5:0} # creating dictionary \n",
    "    service_note = {1:\"\" , 2:\"\" , 3:\"\" , 4:\"\" , 5:\"\"} # creating dictionary\n",
    "    print (\"we hope you have a good experience with us\")\n",
    "    read_condation = True\n",
    "    while(read_condation == True):\n",
    "        value = input(\"do you want to rate your experience with us:(yes/no)\\n\")\n",
    "        if(value == 'no'):\n",
    "            print(\"Thank you for visit us and we are waiting you for next visit\")\n",
    "            read_condation = False\n",
    "            break\n",
    "        elif(value == 'yes'):\n",
    "            value_1 = input(\"What you want to rate 1-recommendation system  2-our service , our expected input will be 1 or 2  \\n\")\n",
    "            if(value_1 =='1'):\n",
    "                value_2 = int(input(\"Could you rate your experience with recommendation system , our expected input will be (very unsatisfied = 1 , unsatisfied = 2 , neutral = 3, satisfied = 4 , very satisfied = 5):\\n\"))\n",
    "                if(value_2 == 1 or value_2 == 2 or value_2 == 3 or value_2 == 4 or value_2 == 5):\n",
    "                    recommendation_system_rate [value_2] = recommendation_system_rate [value_2] + 1\n",
    "                    note_1 = input(\"please write your feedback about our recommendation system : \\n\")\n",
    "                    recommendation_system_note [value_2] = recommendation_system_note [value_2]+\"-\"+note_1\n",
    "                    \n",
    "                else:\n",
    "                    print(\"unexpected input\")\n",
    "                    \n",
    "            elif(value_1 == '2'):\n",
    "                value_3 = int(input(\"Could you rate your experience with service , our expected input will be (very unsatisfied = 1 , unsatisfied = 2 , neutral = 3, satisfied = 4 , very satisfied = 5):\\n\"))\n",
    "                if(value_3 == 1 or value_3 == 2 or value_3 == 3 or value_3 == 4 or value_3 == 5):\n",
    "                    service_rate [value_3] = service_rate [value_3] + 1\n",
    "                    note_2 = input(\"please write your feedback about our service : \\n\")\n",
    "                    service_note [value_3] = service_note[value_3]+\"-\"+note_2        \n",
    "                else:\n",
    "                    print(\"unexpected input\")\n",
    "                    \n",
    "            else:\n",
    "                print(\"unexpected input\")\n",
    "        else:\n",
    "            print(\"try again\")\n",
    "            rateing ()\n",
    "             \n",
    "    print(\"The number of customer in each rating for our recommendation system: \\n\")\n",
    "    print(recommendation_system_rate)\n",
    "    print(\"The feedbacks of each rating for our recommendation system: \\n\")\n",
    "    print(recommendation_system_note)\n",
    "    print(\"The number of customer in each rating for our service : \\n\")\n",
    "    print(service_rate)\n",
    "    print(\"The feedbacks of each rating for our service: \\n\")\n",
    "    print(service_note)\n",
    "    \n",
    "    \n",
    "    print(\"visualization of our recommendation system rate \\n\")\n",
    "    \n",
    "    \n",
    "    # Get the Keys and store them in a list\n",
    "    labels = list(recommendation_system_rate.keys())\n",
    "\n",
    "    # Get the Values and store them in a list\n",
    "    values = list(recommendation_system_rate.values())\n",
    "    \n",
    "    print(\"visualization of our service rate \\n\")\n",
    "    \n",
    "    # Get the Keys and store them in a list\n",
    "    labels_2 = list(service_rate.keys())\n",
    "\n",
    "    # Get the Values and store them in a list\n",
    "    values_2 = list(service_rate.values())\n",
    "                \n",
    "    plt.figure(figsize=[15,5])\n",
    "\n",
    "    plt.suptitle('Khalid Cinema',fontsize = 20)\n",
    "\n",
    "    plt.subplot(1,2,1) # (number of rows, number of columns, number of plot)\n",
    "    plt.bar(range(len(recommendation_system_rate)), values, tick_label=labels)\n",
    "    plt.title('Bar Chart Recommendation  ')\n",
    "\n",
    "    plt.subplot(1,2,2)\n",
    "    plt.bar(range(len(service_rate)), values_2, tick_label=labels_2)\n",
    "    plt.title('Bar Chart Service ');  "
   ]
  },
  {
   "cell_type": "code",
   "execution_count": 28,
   "id": "395d333c",
   "metadata": {
    "scrolled": true
   },
   "outputs": [
    {
     "name": "stdout",
     "output_type": "stream",
     "text": [
      "we hope you have a good experience with us\n",
      "do you want to rate your experience with us:(yes/no)\n",
      "yes\n",
      "What you want to rate 1-recommendation system  2-our service , our expected input will be 1 or 2  \n",
      "1\n",
      "Could you rate your experience with recommendation system , our expected input will be (very unsatisfied = 1 , unsatisfied = 2 , neutral = 3, satisfied = 4 , very satisfied = 5):\n",
      "4\n",
      "please write your feedback about our recommendation system : \n",
      "nothing\n",
      "do you want to rate your experience with us:(yes/no)\n",
      "yes\n",
      "What you want to rate 1-recommendation system  2-our service , our expected input will be 1 or 2  \n",
      "2\n",
      "Could you rate your experience with service , our expected input will be (very unsatisfied = 1 , unsatisfied = 2 , neutral = 3, satisfied = 4 , very satisfied = 5):\n",
      "4\n",
      "please write your feedback about our service : \n",
      "nothing\n",
      "do you want to rate your experience with us:(yes/no)\n",
      "no\n",
      "Thank you for visit us and we are waiting you for next visit\n",
      "The number of customer in each rating for our recommendation system: \n",
      "\n",
      "{1: 0, 2: 0, 3: 0, 4: 1, 5: 0}\n",
      "The feedbacks of each rating for our recommendation system: \n",
      "\n",
      "{1: '', 2: '', 3: '', 4: '-nothing', 5: ''}\n",
      "The number of customer in each rating for our service : \n",
      "\n",
      "{1: 0, 2: 0, 3: 0, 4: 1, 5: 0}\n",
      "The feedbacks of each rating for our service: \n",
      "\n",
      "{1: '', 2: '', 3: '', 4: '-nothing', 5: ''}\n",
      "visualization of our recommendation system rate \n",
      "\n",
      "visualization of our service rate \n",
      "\n"
     ]
    },
    {
     "data": {
      "image/png": "[encoded data removed]",
      "text/plain": [
       "<Figure size 1080x360 with 2 Axes>"
      ]
     },
     "metadata": {
      "needs_background": "light"
     },
     "output_type": "display_data"
    }
   ],
   "source": [
    "rating()"
   ]
  },
  {
   "cell_type": "markdown",
   "id": "a7bc30db",
   "metadata": {},
   "source": [
    " #### <a href='#Appendix'>Return to Appendix </a> "
   ]
  },
  {
   "cell_type": "markdown",
   "id": "7d5b75e5",
   "metadata": {},
   "source": [
    "_______________________\n"
   ]
  }
 ],
 "metadata": {
  "kernelspec": {
   "display_name": "Python 3 (ipykernel)",
   "language": "python",
   "name": "python3"
  },
  "language_info": {
   "codemirror_mode": {
    "name": "ipython",
    "version": 3
   },
   "file_extension": ".py",
   "mimetype": "text/x-python",
   "name": "python",
   "nbconvert_exporter": "python",
   "pygments_lexer": "ipython3",
   "version": "3.9.12"
  }
 },
 "nbformat": 4,
 "nbformat_minor": 5
}
